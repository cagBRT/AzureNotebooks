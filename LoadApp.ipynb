{
  "nbformat": 4,
  "nbformat_minor": 0,
  "metadata": {
    "colab": {
      "private_outputs": true,
      "provenance": [],
      "authorship_tag": "ABX9TyOCsGxI9M0J+bEgWWQW6ym9",
      "include_colab_link": true
    },
    "kernelspec": {
      "name": "python3",
      "display_name": "Python 3"
    },
    "language_info": {
      "name": "python"
    }
  },
  "cells": [
    {
      "cell_type": "markdown",
      "metadata": {
        "id": "view-in-github",
        "colab_type": "text"
      },
      "source": [
        "<a href=\"https://colab.research.google.com/github/cagBRT/AzureNotebooks/blob/master/LoadApp.ipynb\" target=\"_parent\"><img src=\"https://colab.research.google.com/assets/colab-badge.svg\" alt=\"Open In Colab\"/></a>"
      ]
    },
    {
      "cell_type": "code",
      "source": [
        "# Clone the entire repo.\n",
        "!git clone -l -s https://github.com/cagBRT/ML-Apps.git cloned-repo\n",
        "%cd cloned-repo\n",
        "!ls"
      ],
      "metadata": {
        "id": "oH38XFK3FUeY"
      },
      "execution_count": null,
      "outputs": []
    },
    {
      "cell_type": "code",
      "execution_count": null,
      "metadata": {
        "id": "4DnIVaUhlL82"
      },
      "outputs": [],
      "source": [
        "import pandas as pd\n",
        "data = pd.read_csv('LoanApprovalPrediction.csv')\n",
        "data.shape"
      ]
    },
    {
      "cell_type": "code",
      "source": [
        "data.info()"
      ],
      "metadata": {
        "id": "RDF4A9Sso5Gt"
      },
      "execution_count": null,
      "outputs": []
    },
    {
      "cell_type": "code",
      "source": [
        "data.isna().sum()"
      ],
      "metadata": {
        "id": "UMeesAnGpA_K"
      },
      "execution_count": null,
      "outputs": []
    },
    {
      "cell_type": "code",
      "source": [
        "data.Loan_ID.nunique()"
      ],
      "metadata": {
        "id": "rsM5i0DKpNAx"
      },
      "execution_count": null,
      "outputs": []
    },
    {
      "cell_type": "code",
      "source": [
        "# Dropping Loan_ID column\n",
        "data.drop(['Loan_ID'], axis=1, inplace=True)"
      ],
      "metadata": {
        "id": "9teTODjvpUJE"
      },
      "execution_count": null,
      "outputs": []
    },
    {
      "cell_type": "code",
      "source": [
        "data.isna().sum().sum()"
      ],
      "metadata": {
        "id": "uw9-BgjVpYCD"
      },
      "execution_count": null,
      "outputs": []
    },
    {
      "cell_type": "code",
      "source": [
        "data.Gender = data.Gender.map({'Male': 0, 'Female':1})"
      ],
      "metadata": {
        "id": "vNMbz-7Tpb3Z"
      },
      "execution_count": null,
      "outputs": []
    },
    {
      "cell_type": "code",
      "source": [
        "from sklearn.preprocessing import LabelEncoder\n",
        "label_encoder = LabelEncoder()\n",
        "obj = (data.dtypes == 'object')\n",
        "for col in list(obj[obj].index):\n",
        "    data[col] = label_encoder.fit_transform(data[col])"
      ],
      "metadata": {
        "id": "voUiSKujpeT9"
      },
      "execution_count": null,
      "outputs": []
    },
    {
      "cell_type": "code",
      "source": [
        "for col in data.columns:\n",
        "    data[col] = data[col].fillna(data[col].mean())"
      ],
      "metadata": {
        "id": "UKXVZVkuphVM"
      },
      "execution_count": null,
      "outputs": []
    },
    {
      "cell_type": "code",
      "source": [
        "x = data.drop(['Loan_Status'], axis=1)\n",
        "y = data.Loan_Status"
      ],
      "metadata": {
        "id": "I647hpbNplRj"
      },
      "execution_count": null,
      "outputs": []
    },
    {
      "cell_type": "code",
      "source": [
        "from sklearn.model_selection import train_test_split\n",
        "x_train, x_test, y_train, y_test = train_test_split(x, y, test_size=0.3, random_state=7)"
      ],
      "metadata": {
        "id": "x2sIqLbNpn85"
      },
      "execution_count": null,
      "outputs": []
    },
    {
      "cell_type": "code",
      "source": [
        "from sklearn.linear_model import LogisticRegression\n",
        "from sklearn.tree import DecisionTreeClassifier\n",
        "from sklearn.linear_model import RidgeClassifier\n",
        "from sklearn.neighbors import KNeighborsClassifier\n",
        "from sklearn.discriminant_analysis import LinearDiscriminantAnalysis\n",
        "from sklearn.naive_bayes import GaussianNB\n",
        "from sklearn.ensemble import RandomForestClassifier\n",
        "from sklearn.svm import SVC\n",
        "from sklearn.metrics import accuracy_score\n",
        "import pickle\n",
        "\n",
        "models = []\n",
        "models.append(('LR', LogisticRegression(max_iter=1000)))\n",
        "models.append(('LDA', LinearDiscriminantAnalysis()))\n",
        "models.append(('KNN', KNeighborsClassifier()))\n",
        "models.append(('CART', DecisionTreeClassifier()))\n",
        "models.append(('NB', GaussianNB()))\n",
        "\n",
        "models.append((\"SVC\", SVC()))\n",
        "models.append(('RC', RidgeClassifier()))\n",
        "models.append(('RF', RandomForestClassifier()))\n",
        "\n",
        "\n",
        "def modeling(model):\n",
        "    model.fit(x_train, y_train)\n",
        "    y_pred = model.predict(x_test)\n",
        "    return accuracy_score(y_test, y_pred) * 100\n",
        "     \n",
        "for name, model in models:\n",
        "    print(f'{name} = {modeling(model)}')\n",
        "     \n",
        "LR = 80.83333333333333\n",
        "LDA = 82.5\n",
        "KNN = 63.74999999999999\n",
        "CART = 68.33333333333333\n",
        "NB = 81.66666666666667\n",
        "SVC = 69.16666666666667\n",
        "RC = 82.91666666666667\n",
        "RF = 81.66666666666667"
      ],
      "metadata": {
        "id": "Sh-HqQVyprxg"
      },
      "execution_count": null,
      "outputs": []
    },
    {
      "cell_type": "code",
      "source": [
        "model = RidgeClassifier()\n",
        "# fit the model on the training data\n",
        "model.fit(x_train, y_train)\n",
        "#save the train model\n",
        "with open('train_model.pkl', mode='wb') as pkl:\n",
        "    pickle.dump(model, pkl)"
      ],
      "metadata": {
        "id": "WyxmeqtzqgQM"
      },
      "execution_count": null,
      "outputs": []
    }
  ]
}