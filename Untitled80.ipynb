{
  "nbformat": 4,
  "nbformat_minor": 0,
  "metadata": {
    "colab": {
      "name": "Untitled80.ipynb",
      "private_outputs": true,
      "provenance": [],
      "collapsed_sections": [],
      "authorship_tag": "ABX9TyMHjKYjO3+4V0j+QmKwyp+q",
      "include_colab_link": true
    },
    "kernelspec": {
      "name": "python3",
      "display_name": "Python 3"
    },
    "language_info": {
      "name": "python"
    }
  },
  "cells": [
    {
      "cell_type": "markdown",
      "metadata": {
        "id": "view-in-github",
        "colab_type": "text"
      },
      "source": [
        "<a href=\"https://colab.research.google.com/github/cagBRT/AzureNotebooks/blob/master/Untitled80.ipynb\" target=\"_parent\"><img src=\"https://colab.research.google.com/assets/colab-badge.svg\" alt=\"Open In Colab\"/></a>"
      ]
    },
    {
      "cell_type": "markdown",
      "source": [
        "Write a program that:\n",
        "Goes through a list of values. \n",
        "- if an integer is encountered, print the integer and add it to a new list <br>\n",
        "- if a float is encountered, change it to an integer and print the integer and add it to a new list<br>\n",
        "- if a string is encountered <br>\n",
        "> convert it to an integer and add it to a new list<br>\n",
        "or if it cannot be converted, print the value -99 and add -99 to a new list\n"
      ],
      "metadata": {
        "id": "9vcXtEYPB_Mn"
      }
    },
    {
      "cell_type": "markdown",
      "source": [
        "[2,3.0,56,\"8.8\",\"nine\",45,4.34, \"90.99\",\"thirteen\"]"
      ],
      "metadata": {
        "id": "lcr0U9TnC7PE"
      }
    },
    {
      "cell_type": "code",
      "execution_count": null,
      "metadata": {
        "id": "dg0LkEvVB9Iz"
      },
      "outputs": [],
      "source": [
        ""
      ]
    },
    {
      "cell_type": "markdown",
      "source": [
        ""
      ],
      "metadata": {
        "id": "MPOR_anQFz7Z"
      }
    },
    {
      "cell_type": "markdown",
      "source": [
        "Sort hitters.csv"
      ],
      "metadata": {
        "id": "3cSOOllqZq2-"
      }
    },
    {
      "cell_type": "code",
      "source": [
        "!git clone -l -s https://github.com/cagBRT/Intro-to-Programming-with-Python.git cloned-repo\n",
        "%cd cloned-repo\n",
        "from IPython.display import Image\n",
        "def page(num):\n",
        "    return Image(\"c1-content/c1PythonProgramming\"+str(num)+ \".png\" , width=640)"
      ],
      "metadata": {
        "id": "iN6NR_e_oJsl"
      },
      "execution_count": null,
      "outputs": []
    },
    {
      "cell_type": "code",
      "source": [
        ""
      ],
      "metadata": {
        "id": "HZPAiY16oTX_"
      },
      "execution_count": null,
      "outputs": []
    }
  ]
}